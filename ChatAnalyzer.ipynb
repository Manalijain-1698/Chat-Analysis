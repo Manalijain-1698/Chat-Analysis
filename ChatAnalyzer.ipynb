{
 "cells": [
  {
   "cell_type": "code",
   "execution_count": null,
   "id": "c6ee4dea",
   "metadata": {},
   "outputs": [],
   "source": [
    "import re\n",
    "import regex\n",
    "import pandas as pd\n",
    "import numpy as np\n",
    "import emoji\n",
    "import datetime\n",
    "from collections import Counter\n",
    "import datetime\n",
    "import matplotlib.pyplot as plt\n",
    "from os import path\n",
    "import plotly.express as px\n",
    "import spacy\n",
    "from spacy.lang.en.stop_words import STOP_WORDS\n",
    "from nltk.sentiment.vader import SentimentIntensityAnalyzer\n",
    "sentiments = SentimentIntensityAnalyzer()\n",
    "import warnings\n",
    "warnings.filterwarnings(\"ignore\")\n",
    "%matplotlib inline"
   ]
  },
  {
   "cell_type": "code",
   "execution_count": null,
   "id": "c124ecdb",
   "metadata": {},
   "outputs": [],
   "source": [
    "#function for matching the pattern of date and time in the text\n",
    "def beginWithDateAndTime(text):\n",
    "    pattern = '^\\d{1,2}/\\d{1,2}/\\d{1,2}, \\d{1,2}:\\d{1,2}\\S [AaPp][Mm] -'\n",
    "    result = re.match(pattern, text)\n",
    "    if result:\n",
    "        return True\n",
    "    return False\n",
    "\n",
    "#function for finding the author of chat \n",
    "def FindAuthor(text):\n",
    "    patterns = [\n",
    "        '([\\w]+):',                        # Nombre\n",
    "        '([\\w]+[\\s]+[\\w]+):',              # Nombre + Apellido\n",
    "        '([\\w]+[\\s]+[\\w]+[\\s]+[\\w]+):',    # Nombre + Segundo Nombre + Apellido\n",
    "        '([\\w]+)[\\u263a-\\U0001f999]+:',    # Nombre con Emoji              \n",
    "    ]\n",
    "    pattern = '^' + '|'.join(patterns)\n",
    "    result = re.match(pattern, text)\n",
    "    if result:\n",
    "        return True\n",
    "    return False\n"
   ]
  },
  {
   "cell_type": "code",
   "execution_count": null,
   "id": "8eb6959f",
   "metadata": {},
   "outputs": [],
   "source": [
    "#function to get data like time,date,author and message from chat\n",
    "def getDataFromText(text):   \n",
    "    splitLine = text.split(' - ') \n",
    "    dateTime = splitLine[0]\n",
    "    message = ' '.join(splitLine[1:])\n",
    "    if FindAuthor(message): \n",
    "        splitMessage = message.split(': ') \n",
    "        author = splitMessage[0] \n",
    "        message = ' '.join(splitMessage[1:])\n",
    "    else:\n",
    "        author = None\n",
    "    return dateTime, author, message"
   ]
  },
  {
   "cell_type": "code",
   "execution_count": null,
   "id": "f8ae0df4",
   "metadata": {},
   "outputs": [],
   "source": [
    "parsedData = [] \n",
    "chatfilePath = 'whatsapp chat file path' \n",
    "with open(chatfilePath, encoding=\"utf-8\") as fp:\n",
    "    fp.readline() \n",
    "    messageBuffer = [] \n",
    "    datetime, author = None, None\n",
    "    while True:\n",
    "        line = fp.readline() \n",
    "        if not line: \n",
    "            break\n",
    "        line = line.strip() \n",
    "        if beginWithDateAndTime(line): \n",
    "            if len(messageBuffer) > 0: \n",
    "                parsedData.append([dateTime, author, ' '.join(messageBuffer)]) \n",
    "            messageBuffer.clear() \n",
    "            dateTime, author, message = getDataFromText(line) \n",
    "            messageBuffer.append(message) \n",
    "        else:\n",
    "            messageBuffer.append(line)\n",
    "   \n"
   ]
  },
  {
   "cell_type": "code",
   "execution_count": null,
   "id": "2e9de237",
   "metadata": {},
   "outputs": [],
   "source": [
    "chat = pd.DataFrame(parsedData, columns=['DateTime', 'Author', 'Message']) "
   ]
  },
  {
   "cell_type": "code",
   "execution_count": null,
   "id": "cc542f33",
   "metadata": {},
   "outputs": [],
   "source": [
    "chat.head()"
   ]
  },
  {
   "cell_type": "code",
   "execution_count": null,
   "id": "0bd883bd",
   "metadata": {},
   "outputs": [],
   "source": [
    "chat_memebers=list(chat.Author.unique())\n",
    "chat_memebers"
   ]
  },
  {
   "cell_type": "code",
   "execution_count": null,
   "id": "2fef3131",
   "metadata": {},
   "outputs": [],
   "source": [
    "chat[\"DateTime\"] = pd.to_datetime(chat[\"DateTime\"])\n",
    "chat.info()"
   ]
  },
  {
   "cell_type": "code",
   "execution_count": null,
   "id": "023ef2eb",
   "metadata": {},
   "outputs": [],
   "source": [
    "#new column weekday\n",
    "chat['weekday'] = chat['DateTime'].apply(lambda x: x.day_name())\n",
    "# new column month_sent\n",
    "chat['month_sent'] = chat['DateTime'].apply(lambda x: x.month_name()) \n",
    "#column date\n",
    "chat['date'] = [d.date() for d in chat['DateTime']] \n",
    "#column hour\n",
    "chat['hour'] = [d.time().hour for d in chat['DateTime']]"
   ]
  },
  {
   "cell_type": "code",
   "execution_count": null,
   "id": "90a7bab9",
   "metadata": {},
   "outputs": [],
   "source": [
    "#column urlcount\n",
    "URLPATTERN = r'(https?://\\S+)'\n",
    "chat['urlcount'] = chat.Message.apply(lambda x: re.findall(URLPATTERN, x)).str.len()\n",
    "#column Letter_Count\n",
    "chat['Letter_Count'] = chat['Message'].apply(lambda s : len(s))\n",
    "#column Word_Count\n",
    "chat['Word_Count'] = chat['Message'].apply(lambda s : len(s.split(' ')))"
   ]
  },
  {
   "cell_type": "code",
   "execution_count": null,
   "id": "de79bc98",
   "metadata": {},
   "outputs": [],
   "source": [
    "def count_of_emojis(text):\n",
    "\n",
    "    emoji_list = []\n",
    "    data = regex.findall(r'\\X', text)\n",
    "    for word in data:\n",
    "        if any(char in emoji.UNICODE_EMOJI['en'] for char in word):\n",
    "            emoji_list.append(word)\n",
    "    \n",
    "    return emoji_list"
   ]
  },
  {
   "cell_type": "code",
   "execution_count": null,
   "id": "cf77cacf",
   "metadata": {},
   "outputs": [],
   "source": [
    "chat[\"emoji\"] = chat[\"Message\"].apply(count_of_emojis)"
   ]
  },
  {
   "cell_type": "code",
   "execution_count": null,
   "id": "fa91b990",
   "metadata": {},
   "outputs": [],
   "source": [
    "#This chart shows the number of messages per day\n",
    "date_grouped = chat.groupby('date')['Message'].count().plot(kind='line', figsize=(20,10), color='orange')"
   ]
  },
  {
   "cell_type": "code",
   "execution_count": null,
   "id": "a32e2fd1",
   "metadata": {},
   "outputs": [],
   "source": [
    "#highest messages through the weekdays\n",
    "weekday_grouped_msg =  (chat.set_index('weekday')['Message']\n",
    "                          .groupby(level=0)\n",
    "                          .value_counts()\n",
    "                          .groupby(level=0)\n",
    "                          .sum()\n",
    "                          .reset_index(name='count'))\n",
    "weekday_grouped_msg\n",
    "\n",
    "fig = px.line_polar(weekday_grouped_msg, r='count', theta='weekday', line_close=True)\n",
    "fig.update_traces(fill='toself')\n",
    "fig.update_layout(\n",
    "  polar=dict(\n",
    "    radialaxis=dict(\n",
    "      visible=True,\n",
    "    )),\n",
    "  showlegend=True\n",
    ")\n",
    "fig.show()"
   ]
  },
  {
   "cell_type": "code",
   "execution_count": null,
   "id": "03c9bdbb",
   "metadata": {},
   "outputs": [],
   "source": [
    "#time of day is it most common to send messages in this group\n",
    "hour_grouped_msg =  (chat.set_index('hour')['Message']\n",
    "                          .groupby(level=0)\n",
    "                          .value_counts()\n",
    "                          .groupby(level=0)\n",
    "                          .sum()\n",
    "                          .reset_index(name='count'))\n",
    "fig=px.bar(hour_grouped_msg,x='hour',y='count',labels={'hour':'24 hour period'},height=500)\n",
    "fig.update_traces(marker_color='#EDCC8B', marker_line_color='#D4A29C',\n",
    "                  marker_line_width=1.5, opacity=0.6)\n",
    "fig.update_layout(title_text='Total Messages by Hour of the Day')\n",
    "fig.show()\n"
   ]
  },
  {
   "cell_type": "code",
   "execution_count": null,
   "id": "f7a08d74",
   "metadata": {},
   "outputs": [],
   "source": [
    "total_messages=chat.shape[0]\n",
    "media_messges=chat[chat['Message']=='<Multimedia omitido>'].shape[0]\n",
    "average_msg_words=chat['Word_Count'].mean()\n",
    "average_msg_word=chat['Letter_Count'].mean()\n",
    "average_message_day = chat.groupby('date')['Message'].count().mean()"
   ]
  },
  {
   "cell_type": "code",
   "execution_count": null,
   "id": "cdbc8dbc",
   "metadata": {},
   "outputs": [],
   "source": [
    "print('Total Messages ',total_messages)\n",
    "print('Media Message', media_messges)\n",
    "print('Average Words by Messages', round(average_msg_words, 2))\n",
    "print('Average Letters by Messages', round(average_msg_word, 2))\n",
    "print('Average Message Per Day', round(average_message_day, 2))"
   ]
  },
  {
   "cell_type": "code",
   "execution_count": null,
   "id": "094d119a",
   "metadata": {
    "scrolled": true
   },
   "outputs": [],
   "source": [
    "#Average Messages bar graph\n",
    "total_data=[]\n",
    "total_data.extend((average_msg_words,average_msg_word,average_message_day))\n",
    "print(total_data)\n",
    "mylabels = [\"Average Message Words\", \"Average letters\", \"Average message per day\"]\n",
    "plt.bar(mylabels,total_data)\n",
    "plt.show()"
   ]
  },
  {
   "cell_type": "code",
   "execution_count": null,
   "id": "130f4c86",
   "metadata": {},
   "outputs": [],
   "source": [
    "#count of messages by each author\n",
    "qty_message_author = chat['Author'].value_counts()\n",
    "qty_message_author.plot(kind='barh',figsize=(20,10), color=['#D4A29C', '#E8B298', '#EDCC8B', '#BDD1C5', '#9DAAA2'])\n",
    "qty_message_author"
   ]
  },
  {
   "cell_type": "code",
   "execution_count": null,
   "id": "85e0500f",
   "metadata": {},
   "outputs": [],
   "source": [
    "nlp = spacy.load('en_core_web_sm')\n",
    "stopwords = list(STOP_WORDS)"
   ]
  },
  {
   "cell_type": "code",
   "execution_count": null,
   "id": "9421e85d",
   "metadata": {},
   "outputs": [],
   "source": [
    "common_words=chat[['Author','Message']].copy()"
   ]
  },
  {
   "cell_type": "code",
   "execution_count": null,
   "id": "c51c317d",
   "metadata": {},
   "outputs": [],
   "source": [
    "extra = [\"<multimedia\", \"omitido>\", \"k\", \"d\",\"si\",\"multimedia\", \"omitido\"]\n",
    "stopwords=stopwords+extra\n",
    "common_words['Message']=(\n",
    "    common_words['Message']\n",
    "    .str.lower()\n",
    "    .str.split()\n",
    "    .apply(lambda x:[item for item in x if item not in stopwords])\n",
    "    .explode()\n",
    "    .reset_index(drop=True)\n",
    ")\n",
    "\n",
    "word_dict=dict(Counter(common_words['Message']))\n",
    "word_dict=sorted(word_dict.items(),reverse=True,key=lambda x:x[1])\n",
    "word_dict=pd.DataFrame(word_dict,columns=['Word','Count'])"
   ]
  },
  {
   "cell_type": "code",
   "execution_count": null,
   "id": "27cfb4c1",
   "metadata": {},
   "outputs": [],
   "source": [
    "word_dict"
   ]
  },
  {
   "cell_type": "code",
   "execution_count": null,
   "id": "0100b48e",
   "metadata": {},
   "outputs": [],
   "source": [
    "#Most common words in chat\n",
    "fig=px.bar(word_dict.head(10),x='Word',y='Count',labels={'words':'Commom words'},height=500)\n",
    "fig.update_traces(marker_color='#EDCC8B', marker_line_color='#D4A29C',\n",
    "                  marker_line_width=1.5, opacity=0.6)\n",
    "fig.update_layout(title_text='Most Common words in Chat')\n",
    "fig.show()"
   ]
  },
  {
   "cell_type": "code",
   "execution_count": null,
   "id": "2cd6924c",
   "metadata": {},
   "outputs": [],
   "source": [
    "#adding colums like postive,negative and neutral for calculating sentiment of each text\n",
    "chat[\"Positive\"] = [sentiments.polarity_scores(i)[\"pos\"] for i in chat[\"Message\"]]\n",
    "chat[\"Negative\"] = [sentiments.polarity_scores(i)[\"neg\"] for i in chat[\"Message\"]]\n",
    "chat[\"Neutral\"] = [sentiments.polarity_scores(i)[\"neu\"] for i in chat[\"Message\"]]\n",
    "print(chat.head())"
   ]
  },
  {
   "cell_type": "code",
   "execution_count": null,
   "id": "98ea8df4",
   "metadata": {},
   "outputs": [],
   "source": [
    "postive_msgs=chat[\"Positive\"].mean()\n",
    "print(\"Positive messages score:\",postive_msgs)\n",
    "neutral_msgs=chat[\"Neutral\"].mean()\n",
    "print(\"Neutral messages score:\",neutral_msgs)\n",
    "negative_msgs=chat[\"Negative\"].mean()\n",
    "print(\"Negative messages score:\",negative_msgs)"
   ]
  },
  {
   "cell_type": "code",
   "execution_count": null,
   "id": "a573d583",
   "metadata": {},
   "outputs": [],
   "source": [
    "total_emojis_list = list(set([a for b in chat.emoji for a in b]))\n",
    "total_emojis = len(total_emojis_list)\n",
    "print('Sum of all used Emojis', total_emojis)"
   ]
  },
  {
   "cell_type": "code",
   "execution_count": null,
   "id": "a4084312",
   "metadata": {},
   "outputs": [],
   "source": [
    "total_emojis_list = list([a for b in chat.emoji for a in b])\n",
    "emoji_dict = dict(Counter(total_emojis_list))\n",
    "emoji_dict = sorted(emoji_dict.items(), key=lambda x: x[1], reverse=True)\n",
    "emoji_df = pd.DataFrame(emoji_dict, columns=['emoji', 'count'])\n",
    "emoji_df.head(10)"
   ]
  },
  {
   "cell_type": "code",
   "execution_count": null,
   "id": "422be7f3",
   "metadata": {},
   "outputs": [],
   "source": [
    "#tree map of emojis in chat\n",
    "fig = px.treemap(emoji_df, path= ['emoji'],\n",
    "    values = emoji_df['count'].tolist(),\n",
    ")\n",
    "fig.show()"
   ]
  },
  {
   "cell_type": "code",
   "execution_count": null,
   "id": "e47df22b",
   "metadata": {},
   "outputs": [],
   "source": []
  }
 ],
 "metadata": {
  "kernelspec": {
   "display_name": "Python 3",
   "language": "python",
   "name": "python3"
  },
  "language_info": {
   "codemirror_mode": {
    "name": "ipython",
    "version": 3
   },
   "file_extension": ".py",
   "mimetype": "text/x-python",
   "name": "python",
   "nbconvert_exporter": "python",
   "pygments_lexer": "ipython3",
   "version": "3.8.8"
  }
 },
 "nbformat": 4,
 "nbformat_minor": 5
}
