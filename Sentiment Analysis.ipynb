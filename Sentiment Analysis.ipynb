{
 "cells": [
  {
   "cell_type": "code",
   "execution_count": null,
   "id": "52bde64f",
   "metadata": {},
   "outputs": [],
   "source": [
    "import spacy\n",
    "from spacy import displacy"
   ]
  },
  {
   "cell_type": "code",
   "execution_count": null,
   "id": "e9d0953f",
   "metadata": {},
   "outputs": [],
   "source": [
    "nlp = spacy.load('en_core_web_sm')\n",
    "text=nlp(\"Apple, This is first sentence. and Google this is another one. here 3rd one is\")\n",
    "for token in text:\n",
    "    print(token,end=\" \")"
   ]
  },
  {
   "cell_type": "code",
   "execution_count": null,
   "id": "cb7d90f7",
   "metadata": {},
   "outputs": [],
   "source": [
    "from spacy.lang.en.stop_words import STOP_WORDS\n",
    "stopwords = list(STOP_WORDS)\n",
    "print(stopwords)"
   ]
  },
  {
   "cell_type": "code",
   "execution_count": null,
   "id": "3549529e",
   "metadata": {},
   "outputs": [],
   "source": [
    "len(stopwords)"
   ]
  },
  {
   "cell_type": "code",
   "execution_count": null,
   "id": "ef2a816f",
   "metadata": {},
   "outputs": [],
   "source": [
    "for token in doc:\n",
    "    if token.is_stop==False:\n",
    "        print(token)"
   ]
  },
  {
   "cell_type": "code",
   "execution_count": null,
   "id": "5d699ea3",
   "metadata": {},
   "outputs": [],
   "source": [
    "import pandas as pd\n",
    "from sklearn.feature_extraction.text import TfidfVectorizer\n",
    "from sklearn.svm import LinearSVC\n",
    "from sklearn.pipeline import Pipeline\n",
    "from sklearn.model_selection import train_test_split\n",
    "from sklearn.metrics import accuracy_score, classification_report, confusion_matrix\n",
    "import string\n"
   ]
  },
  {
   "cell_type": "code",
   "execution_count": null,
   "id": "64c4b5c7",
   "metadata": {},
   "outputs": [],
   "source": [
    "data_yelp=pd.read_csv('datasets/yelp_labelled.txt',sep='\\t',header=None)\n",
    "data_yelp"
   ]
  },
  {
   "cell_type": "code",
   "execution_count": null,
   "id": "2c052004",
   "metadata": {},
   "outputs": [],
   "source": [
    "data_yelp.shape"
   ]
  },
  {
   "cell_type": "code",
   "execution_count": null,
   "id": "5f21050b",
   "metadata": {},
   "outputs": [],
   "source": [
    "column_names=[\"Review\",\"Sentiment\"]\n",
    "data_yelp.columns=column_names\n",
    "data_yelp.head()"
   ]
  },
  {
   "cell_type": "code",
   "execution_count": null,
   "id": "8f4f2f41",
   "metadata": {},
   "outputs": [],
   "source": [
    "data_amazon=pd.read_csv('datasets/amazon_cells_labelled.txt',sep='\\t',header=None)\n",
    "data_amazon"
   ]
  },
  {
   "cell_type": "code",
   "execution_count": null,
   "id": "4ac6a8d4",
   "metadata": {},
   "outputs": [],
   "source": [
    "data_amazon.columns=column_names\n",
    "data_amazon.head()"
   ]
  },
  {
   "cell_type": "code",
   "execution_count": null,
   "id": "417e63e4",
   "metadata": {},
   "outputs": [],
   "source": [
    "data_amazon.shape"
   ]
  },
  {
   "cell_type": "code",
   "execution_count": null,
   "id": "c187c901",
   "metadata": {},
   "outputs": [],
   "source": [
    "data_imdb=pd.read_csv('datasets/imdb_labelled.txt',sep='\\t',header=None)\n",
    "data_imdb"
   ]
  },
  {
   "cell_type": "code",
   "execution_count": null,
   "id": "02b23803",
   "metadata": {},
   "outputs": [],
   "source": [
    "data_imdb.columns=column_names\n",
    "data_imdb.head()"
   ]
  },
  {
   "cell_type": "code",
   "execution_count": null,
   "id": "75299008",
   "metadata": {},
   "outputs": [],
   "source": [
    "data_imdb.shape"
   ]
  },
  {
   "cell_type": "code",
   "execution_count": null,
   "id": "de84b9e8",
   "metadata": {},
   "outputs": [],
   "source": [
    "data=data_yelp.append([data_amazon,data_imdb],ignore_index=True)\n",
    "data.head()"
   ]
  },
  {
   "cell_type": "code",
   "execution_count": null,
   "id": "06305e2d",
   "metadata": {},
   "outputs": [],
   "source": [
    "data.shape"
   ]
  },
  {
   "cell_type": "code",
   "execution_count": null,
   "id": "fe894acb",
   "metadata": {},
   "outputs": [],
   "source": [
    "data['Sentiment'].value_counts()"
   ]
  },
  {
   "cell_type": "code",
   "execution_count": null,
   "id": "cef18670",
   "metadata": {},
   "outputs": [],
   "source": [
    "punct = string.punctuation\n",
    "def text_data_cleaning(sentence):\n",
    "    doc=nlp(sentence)\n",
    "    tokens=[]\n",
    "    for token in doc:\n",
    "        if token.lemma_ !='-PRON-':\n",
    "            temp=token.lemma_.lower().strip()\n",
    "        else:\n",
    "            temp=token.lower()\n",
    "        tokens.append(temp)\n",
    "    #print(tokens)\n",
    "    cleaned_tokens=[]\n",
    "    for token in tokens:\n",
    "        if token not in stopwords and token not in punct:\n",
    "            cleaned_tokens.append(token)\n",
    "    return cleaned_tokens\n",
    "    "
   ]
  },
  {
   "cell_type": "code",
   "execution_count": null,
   "id": "502b139c",
   "metadata": {},
   "outputs": [],
   "source": [
    "text_data_cleaning(\"    Hello how are you. Like this video\")"
   ]
  },
  {
   "cell_type": "code",
   "execution_count": null,
   "id": "f4e9fa52",
   "metadata": {},
   "outputs": [],
   "source": [
    "tfidf=TfidfVectorizer(tokenizer=text_data_cleaning)\n",
    "classifier=LinearSVC()"
   ]
  },
  {
   "cell_type": "code",
   "execution_count": null,
   "id": "8b52e60f",
   "metadata": {},
   "outputs": [],
   "source": [
    "X=data['Review']\n",
    "y=data['Sentiment']"
   ]
  },
  {
   "cell_type": "code",
   "execution_count": null,
   "id": "9b48a941",
   "metadata": {},
   "outputs": [],
   "source": [
    "X_train,X_test,y_train,y_test=train_test_split(X,y,test_size=0.2,random_state=42)\n",
    "X_train.shape,X_test.shape"
   ]
  },
  {
   "cell_type": "code",
   "execution_count": null,
   "id": "141c0659",
   "metadata": {},
   "outputs": [],
   "source": [
    "clf=Pipeline([('tfidf',tfidf),('clf',classifier)])\n",
    "clf.fit(X_train,y_train)"
   ]
  },
  {
   "cell_type": "code",
   "execution_count": null,
   "id": "ccbe4cc3",
   "metadata": {},
   "outputs": [],
   "source": [
    "y_pred = clf.predict(X_test)"
   ]
  },
  {
   "cell_type": "code",
   "execution_count": null,
   "id": "6a4f9812",
   "metadata": {},
   "outputs": [],
   "source": [
    "print(classification_report(y_test, y_pred))"
   ]
  },
  {
   "cell_type": "code",
   "execution_count": null,
   "id": "b33bea9c",
   "metadata": {},
   "outputs": [],
   "source": [
    "clf.predict(['Wow, this is amazing lesson'])"
   ]
  },
  {
   "cell_type": "code",
   "execution_count": null,
   "id": "842ddda4",
   "metadata": {},
   "outputs": [],
   "source": [
    "clf.predict(['System is very ugly'])\n"
   ]
  },
  {
   "cell_type": "code",
   "execution_count": null,
   "id": "0af317b7",
   "metadata": {},
   "outputs": [],
   "source": [
    "print(\"Enter the sentence:\")\n",
    "Sentence=input()\n",
    "Sentiment=clf.predict([Sentence])\n",
    "if Sentiment==[0]:\n",
    "    print(\"Sentiment:Negative\")\n",
    "else:\n",
    "    print(\"Sentiment:Postive\")"
   ]
  },
  {
   "cell_type": "code",
   "execution_count": null,
   "id": "c9acb640",
   "metadata": {},
   "outputs": [],
   "source": []
  }
 ],
 "metadata": {
  "kernelspec": {
   "display_name": "Python 3",
   "language": "python",
   "name": "python3"
  },
  "language_info": {
   "codemirror_mode": {
    "name": "ipython",
    "version": 3
   },
   "file_extension": ".py",
   "mimetype": "text/x-python",
   "name": "python",
   "nbconvert_exporter": "python",
   "pygments_lexer": "ipython3",
   "version": "3.8.8"
  }
 },
 "nbformat": 4,
 "nbformat_minor": 5
}
